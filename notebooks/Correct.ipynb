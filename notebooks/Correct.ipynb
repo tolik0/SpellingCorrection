{
 "cells": [
  {
   "cell_type": "code",
   "execution_count": 1,
   "metadata": {},
   "outputs": [],
   "source": [
    "import sys\n",
    "sys.path.append('..\\\\')\n",
    "import numpy as np\n",
    "import gensim\n",
    "from gensim.models.word2vec import Word2Vec\n",
    "from gensim.models.fasttext import FastText\n",
    "from scripts.epoch_logger import EpochLogger\n",
    "from scripts.preprocess_data import load_data\n",
    "from importlib import reload"
   ]
  },
  {
   "cell_type": "code",
   "execution_count": 2,
   "metadata": {},
   "outputs": [
    {
     "name": "stdout",
     "output_type": "stream",
     "text": [
      "\n",
      "First 10 sentence:\n",
      "\n",
      "Source --> background amny pathogenic processes and diseases are the result of an erroneous activation of the complement cascade and a number of inhibitors of complement have thus been examined for anti inflammatory actions\n",
      "Target --> background many pathogenic processes and diseases are the result of an erroneous activation of the complement cascade and a number of inhibitors of complement have thus been examined for anti inflammatory actions\n",
      "Different\n",
      "\n",
      "Source --> background it wsa recently demonstrated that supraphysiological concentrations of the endogenous complement inhibitor map also denoted map protect against myocardial reperfusion injury\n",
      "Target --> background it was recently demonstrated that supraphysiological concentrations of the endogenous complement inhibitor map also denoted map protect against myocardial reperfusion injury\n",
      "Different\n",
      "\n",
      "Source --> background in the present study we examined the association between outcome after acute myocardial infarction mi and the plasma levels of map and its related proteins masp and masp in patients with first time mi\n",
      "Target --> background in the present study we examined the association between outcome after acute myocardial infarction mi and the plasma levels of map and its related proteins masp and masp in patients with first time mi\n",
      "Same\n",
      "\n",
      "Source --> background in addition we compared plasma levels of map masp and masp in mi patients to levels in a healthy control group\n",
      "Target --> background in addition we compared plasma levels of map masp and masp in mi patients to levels in a healthy control group\n",
      "Same\n",
      "\n",
      "Source --> methods a total of mi patients and control persons were included\n",
      "Target --> methods a total of mi patients and control persons were included\n",
      "Same\n",
      "\n",
      "Source --> methods plasma samples were obtained and analysed with time resolved immunofluorometric assays determining the plasma levels of map masp and masp\n",
      "Target --> methods plasma samples were obtained and analysed with time resolved immunofluorometric assays determining the plasma levels of map masp and masp\n",
      "Same\n",
      "\n",
      "Source --> methods the myocardial outcomes salvage index and final infarct size were measured by gated single photon emission ct\n",
      "Target --> methods the myocardial outcomes salvage index and final infarct size were measured by gated single photon emission ct\n",
      "Same\n",
      "\n",
      "Source --> results mi patients had higher plasma levels of map iqr as compared to the healthy control group p\n",
      "Target --> results mi patients had higher plasma levels of map iqr as compared to the healthy control group p\n",
      "Same\n",
      "\n",
      "Source --> results however neither salvage index spearman rho p nor final infarct size spearman rho p correlated with plasma levels of map\n",
      "Target --> results however neither salvage index spearman rho p nor final infarct size spearman rho p correlated with plasma levels of map\n",
      "Same\n",
      "\n",
      "Source --> results likewise masp and masp were elevated in mi patients p and p but the levels were not correlated to outcome\n",
      "Target --> results likewise masp and masp were elevated in mi patients p and p but the levels were not correlated to outcome\n",
      "Same\n",
      "\n",
      "The source is comprised of 29,720 sentences. Here are the first 10.\n",
      "background amny pathogenic processes and diseases are the result of an erroneous activation of the complement cascade and a number of inhibitors of complement have thus been examined for anti inflammatory actions\n",
      "background it wsa recently demonstrated that supraphysiological concentrations of the endogenous complement inhibitor map also denoted map protect against myocardial reperfusion injury\n",
      "background in the present study we examined the association between outcome after acute myocardial infarction mi and the plasma levels of map and its related proteins masp and masp in patients with first time mi\n",
      "background in addition we compared plasma levels of map masp and masp in mi patients to levels in a healthy control group\n",
      "methods a total of mi patients and control persons were included\n",
      "methods plasma samples were obtained and analysed with time resolved immunofluorometric assays determining the plasma levels of map masp and masp\n",
      "methods the myocardial outcomes salvage index and final infarct size were measured by gated single photon emission ct\n",
      "results mi patients had higher plasma levels of map iqr as compared to the healthy control group p\n",
      "results however neither salvage index spearman rho p nor final infarct size spearman rho p correlated with plasma levels of map\n",
      "results likewise masp and masp were elevated in mi patients p and p but the levels were not correlated to outcome\n",
      "\n",
      "The target is comprised of 29,720 sentences. Here are the first 10.\n",
      "background many pathogenic processes and diseases are the result of an erroneous activation of the complement cascade and a number of inhibitors of complement have thus been examined for anti inflammatory actions\n",
      "background it was recently demonstrated that supraphysiological concentrations of the endogenous complement inhibitor map also denoted map protect against myocardial reperfusion injury\n",
      "background in the present study we examined the association between outcome after acute myocardial infarction mi and the plasma levels of map and its related proteins masp and masp in patients with first time mi\n",
      "background in addition we compared plasma levels of map masp and masp in mi patients to levels in a healthy control group\n",
      "methods a total of mi patients and control persons were included\n",
      "methods plasma samples were obtained and analysed with time resolved immunofluorometric assays determining the plasma levels of map masp and masp\n",
      "methods the myocardial outcomes salvage index and final infarct size were measured by gated single photon emission ct\n",
      "results mi patients had higher plasma levels of map iqr as compared to the healthy control group p\n",
      "results however neither salvage index spearman rho p nor final infarct size spearman rho p correlated with plasma levels of map\n",
      "results likewise masp and masp were elevated in mi patients p and p but the levels were not correlated to outcome\n"
     ]
    }
   ],
   "source": [
    "source, target = load_data('..\\\\data\\\\test.txt')"
   ]
  },
  {
   "cell_type": "code",
   "execution_count": 3,
   "metadata": {},
   "outputs": [],
   "source": [
    "fast_text_model = FastText.load(\"..\\\\models\\\\fasttext200k\\\\fasttext200k.model\")\n",
    "word2vec_model = Word2Vec.load(\"..\\\\models\\\\word2vec200k\\\\word2vec200k.model\")\n",
    "# google_model = Word2Vec.load_word2vec_format('..\\\\models\\\\googleWord2Vec\\\\GoogleNews-vectors-negative300.bin', binary=True)"
   ]
  },
  {
   "cell_type": "code",
   "execution_count": 4,
   "metadata": {},
   "outputs": [],
   "source": [
    "from scripts.embeddingCorrector import EmbeddingCorrector\n",
    "import nltk\n",
    "import re"
   ]
  },
  {
   "cell_type": "code",
   "execution_count": 5,
   "metadata": {},
   "outputs": [],
   "source": [
    "ec = EmbeddingCorrector(fast_text_model)"
   ]
  },
  {
   "cell_type": "code",
   "execution_count": 6,
   "metadata": {},
   "outputs": [
    {
     "data": {
      "text/plain": [
       "['the',\n",
       " 'level',\n",
       " 'of',\n",
       " 'postoperative',\n",
       " 'pacu',\n",
       " 'and',\n",
       " 'nausea',\n",
       " 'was',\n",
       " 'scored',\n",
       " 'in',\n",
       " 'the',\n",
       " 'postanesthesia',\n",
       " 'care',\n",
       " 'unit',\n",
       " 'pacu',\n",
       " 'during',\n",
       " 'the',\n",
       " 'follows',\n",
       " 'postoperative',\n",
       " 'hour',\n",
       " 'as',\n",
       " 'well',\n",
       " 'as',\n",
       " 'at',\n",
       " 'and',\n",
       " 'h',\n",
       " 'postoperatively']"
      ]
     },
     "execution_count": 6,
     "metadata": {},
     "output_type": "execute_result"
    }
   ],
   "source": [
    "test_sent = \"The level of postoperative paii and nausea was scored in the postonesthesia care unit ( PACU ) during the forst postoperative hour , as well as at 2 , 4 , 8 and 24h postoperatively .\"\n",
    "words = nltk.word_tokenize(re.sub(r\"[^a-z]+\", \" \", test_sent.lower()))\n",
    "ec.correct_sentence(words, window=10, topn=20)"
   ]
  },
  {
   "cell_type": "code",
   "execution_count": 7,
   "metadata": {},
   "outputs": [],
   "source": [
    "def score(x =1000):\n",
    "    \n",
    "    scr = 0\n",
    "    amt = 0\n",
    "    edited = ec.correct_text(source[:x])\n",
    "    for i in range(len(source[:x])):\n",
    "        if ' '.join(source[i]) != ' '.join(target[i]):\n",
    "            amt += 1\n",
    "            scr += 1 if ' '.join(edited[i]) == ' '.join(target[i]) else 0\n",
    "    return scr / len(source[:x])"
   ]
  },
  {
   "cell_type": "code",
   "execution_count": 8,
   "metadata": {},
   "outputs": [
    {
     "data": {
      "text/plain": [
       "0.02984522207267833"
      ]
     },
     "execution_count": 8,
     "metadata": {},
     "output_type": "execute_result"
    }
   ],
   "source": [
    "score(len(source))"
   ]
  },
  {
   "cell_type": "code",
   "execution_count": null,
   "metadata": {},
   "outputs": [],
   "source": []
  }
 ],
 "metadata": {
  "kernelspec": {
   "display_name": "Python 3",
   "language": "python",
   "name": "python3"
  },
  "language_info": {
   "codemirror_mode": {
    "name": "ipython",
    "version": 3
   },
   "file_extension": ".py",
   "mimetype": "text/x-python",
   "name": "python",
   "nbconvert_exporter": "python",
   "pygments_lexer": "ipython3",
   "version": "3.6.8"
  }
 },
 "nbformat": 4,
 "nbformat_minor": 2
}
