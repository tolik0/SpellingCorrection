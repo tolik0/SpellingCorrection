{
 "cells": [
  {
   "cell_type": "code",
   "execution_count": 1,
   "metadata": {},
   "outputs": [],
   "source": [
    "import sys\n",
    "sys.path.append('..\\\\')\n",
    "import numpy as np\n",
    "import gensim\n",
    "from gensim.models.word2vec import Word2Vec\n",
    "from gensim.models.fasttext import FastText\n",
    "from scripts.epoch_logger import EpochLogger\n",
    "from scripts.preprocess_data import load_data\n",
    "from importlib import reload"
   ]
  },
  {
   "cell_type": "code",
   "execution_count": 9,
   "metadata": {},
   "outputs": [
    {
     "name": "stdout",
     "output_type": "stream",
     "text": [
      "\n",
      "First 10 sentence:\n",
      "\n",
      "Source --> background the emergence of hiv as a chronic condition means that people living with hiv are required to take more responsibility for the self management of their condition including making physical emotional and social adjustments\n",
      "Target --> background the emergence of hiv as a chronic condition means that people living with hiv are required to take more responsibility for the self management of their condition including making physical emotional and social adjustments\n",
      "Same\n",
      "\n",
      "Source --> background this paper describes the design and evaluation of positive outlook an online program aiming to enhance the self management skills of gay men living with hiv\n",
      "Target --> background this paper describes the design and evaluation of positive outlook an online program aiming to enhance the self management skills of gay men living with hiv\n",
      "Same\n",
      "\n",
      "Source --> methods this study is designed as a randomised controlled trial in which men living with hiv in australia will be assigned to either an intervention group or usual care control group\n",
      "Target --> methods this study is designed as a randomised controlled trial in which men living with hiv in australia will be assigned to either an intervention group or usual care control group\n",
      "Same\n",
      "\n",
      "Source --> methods the intervenwion group will participate in the online group program positive outlook\n",
      "Target --> methods the intervention group will participate in the online group program positive outlook\n",
      "Different\n",
      "\n",
      "Source --> methods the program is based on self efficacy theory and uses a self management approach to enhance skills confidence and abilities tx manage the psychosocial issues associated with hiv in daily life\n",
      "Target --> methods the program is based on self efficacy theory and uses a self management approach to enhance skills confidence and abilities to manage the psychosocial issues associated with hiv in daily life\n",
      "Different\n",
      "\n",
      "Source --> methods participants will access the program jor a minimum of minutes per week over seven weeks\n",
      "Target --> methods participants will access the program for a minimum of minutes per week over seven weeks\n",
      "Different\n",
      "\n",
      "Source --> methods primary outcomes are domain specific self efficacy hvi related quality of life and outcomes of health education\n",
      "Target --> methods primary outcomes are domain specific self efficacy hiv related quality of life and outcomes of health education\n",
      "Different\n",
      "\n",
      "Source --> methods secondary outcomes include depression anxiety and stress general health and quality of life adjustment to hiv and social support\n",
      "Target --> methods secondary outcomes include depression anxiety and stress general health and quality of life adjustment to hiv and social support\n",
      "Same\n",
      "\n",
      "Source --> methods data collection will take place at baseline completion of the intervention or eight weeks post randomisation and at week follow up\n",
      "Target --> methods data collection will take place at baseline completion of the intervention or eight weeks post randomisation and at week follow up\n",
      "Same\n",
      "\n",
      "Source --> conclusieons results of the positive outlook study will provide information regarding the effectiveness of online group programs improving health related outcomes for men livin with hiv\n",
      "Target --> conclusions results of the positive outlook study will provide information regarding the effectiveness of online group programs improving health related outcomes for men living with hiv\n",
      "Different\n",
      "\n",
      "The source is comprised of 870 sentences. Here are the first 10.\n",
      "background the emergence of hiv as a chronic condition means that people living with hiv are required to take more responsibility for the self management of their condition including making physical emotional and social adjustments\n",
      "background this paper describes the design and evaluation of positive outlook an online program aiming to enhance the self management skills of gay men living with hiv\n",
      "methods this study is designed as a randomised controlled trial in which men living with hiv in australia will be assigned to either an intervention group or usual care control group\n",
      "methods the intervenwion group will participate in the online group program positive outlook\n",
      "methods the program is based on self efficacy theory and uses a self management approach to enhance skills confidence and abilities tx manage the psychosocial issues associated with hiv in daily life\n",
      "methods participants will access the program jor a minimum of minutes per week over seven weeks\n",
      "methods primary outcomes are domain specific self efficacy hvi related quality of life and outcomes of health education\n",
      "methods secondary outcomes include depression anxiety and stress general health and quality of life adjustment to hiv and social support\n",
      "methods data collection will take place at baseline completion of the intervention or eight weeks post randomisation and at week follow up\n",
      "conclusieons results of the positive outlook study will provide information regarding the effectiveness of online group programs improving health related outcomes for men livin with hiv\n",
      "\n",
      "The target is comprised of 870 sentences. Here are the first 10.\n",
      "background the emergence of hiv as a chronic condition means that people living with hiv are required to take more responsibility for the self management of their condition including making physical emotional and social adjustments\n",
      "background this paper describes the design and evaluation of positive outlook an online program aiming to enhance the self management skills of gay men living with hiv\n",
      "methods this study is designed as a randomised controlled trial in which men living with hiv in australia will be assigned to either an intervention group or usual care control group\n",
      "methods the intervention group will participate in the online group program positive outlook\n",
      "methods the program is based on self efficacy theory and uses a self management approach to enhance skills confidence and abilities to manage the psychosocial issues associated with hiv in daily life\n",
      "methods participants will access the program for a minimum of minutes per week over seven weeks\n",
      "methods primary outcomes are domain specific self efficacy hiv related quality of life and outcomes of health education\n",
      "methods secondary outcomes include depression anxiety and stress general health and quality of life adjustment to hiv and social support\n",
      "methods data collection will take place at baseline completion of the intervention or eight weeks post randomisation and at week follow up\n",
      "conclusions results of the positive outlook study will provide information regarding the effectiveness of online group programs improving health related outcomes for men living with hiv\n"
     ]
    }
   ],
   "source": [
    "source, target = load_data('..\\\\data\\\\trainpart.txt')"
   ]
  },
  {
   "cell_type": "code",
   "execution_count": 3,
   "metadata": {},
   "outputs": [],
   "source": [
    "fast_text_model = FastText.load(\"..\\\\models\\\\fasttext200k\\\\fasttext200k.model\")\n",
    "word2vec_model = Word2Vec.load(\"..\\\\models\\\\word2vec200k\\\\word2vec200k.model\")\n",
    "# google_model = Word2Vec.load_word2vec_format('..\\\\models\\\\googleWord2Vec\\\\GoogleNews-vectors-negative300.bin', binary=True)"
   ]
  },
  {
   "cell_type": "code",
   "execution_count": 4,
   "metadata": {},
   "outputs": [],
   "source": [
    "from scripts.embeddingCorrector import EmbeddingCorrector\n",
    "import nltk\n",
    "import re"
   ]
  },
  {
   "cell_type": "code",
   "execution_count": 5,
   "metadata": {},
   "outputs": [],
   "source": [
    "ec = EmbeddingCorrector(fast_text_model)"
   ]
  },
  {
   "cell_type": "code",
   "execution_count": 16,
   "metadata": {},
   "outputs": [
    {
     "name": "stdout",
     "output_type": "stream",
     "text": [
      "['BACKGROUND', 'The', 'definition', 'of', 'suitable', 'patients', 'for', 'IORT', 'as', 'APBI', 'differs', 'between', 'different', 'national', 'societies', 'e', 'g', 'ESTRO', 'and', 'ASTRO', 'and', 'different', 'inclusion', 'criteria', 'of', 'trials', 'and', 'so', 'does', 'the', 'eligibility', 'of', 'patients']\n"
     ]
    },
    {
     "data": {
      "text/plain": [
       "['well',\n",
       " 'as',\n",
       " 'definition',\n",
       " 'of',\n",
       " 'suitable',\n",
       " 'patients',\n",
       " 'for',\n",
       " 'g',\n",
       " 'as',\n",
       " 'g',\n",
       " 'differs',\n",
       " 'between',\n",
       " 'different',\n",
       " 'national',\n",
       " 'societies',\n",
       " 'e',\n",
       " 'g',\n",
       " 'g',\n",
       " 'and',\n",
       " 'g',\n",
       " 'and',\n",
       " 'different',\n",
       " 'inclusion',\n",
       " 'criteria',\n",
       " 'of',\n",
       " 'trials',\n",
       " 'and',\n",
       " 'so',\n",
       " 'does',\n",
       " 'the',\n",
       " 'eligibility',\n",
       " 'of',\n",
       " 'patients']"
      ]
     },
     "execution_count": 16,
     "metadata": {},
     "output_type": "execute_result"
    }
   ],
   "source": [
    "test_sent = \"BACKGROUND\tThe definition of suitable patients for IORT as APBI differs between different national societies ( e.g. ESTRO and ASTRO ) and different inclusion criteria of trials and so does the eligibility of patients .\"\n",
    "words = nltk.word_tokenize(re.sub(r\"[^a-zA-Z]+\", \" \", test_sent))\n",
    "print(words)\n",
    "ec.correct_sentence(words, window=10, topn=20)"
   ]
  },
  {
   "cell_type": "code",
   "execution_count": 11,
   "metadata": {},
   "outputs": [],
   "source": [
    "def score(x =1000):\n",
    "    \n",
    "    scr = 0\n",
    "    amt = 0\n",
    "    edited = ec.correct_text(source[:x])\n",
    "    for i in range(len(source[:x])):\n",
    "        if ' '.join(source[i]) != ' '.join(target[i]):\n",
    "            amt += 1\n",
    "            scr += 1 if ' '.join(edited[i]) == ' '.join(target[i]) else 0\n",
    "    return scr / len(source[:x])"
   ]
  },
  {
   "cell_type": "code",
   "execution_count": 12,
   "metadata": {},
   "outputs": [
    {
     "name": "stdout",
     "output_type": "stream",
     "text": [
      "All the input context words are out-of-vocabulary for the current model.\n"
     ]
    },
    {
     "data": {
      "text/plain": [
       "0.04827586206896552"
      ]
     },
     "execution_count": 12,
     "metadata": {},
     "output_type": "execute_result"
    }
   ],
   "source": [
    "score(len(source))"
   ]
  },
  {
   "cell_type": "code",
   "execution_count": null,
   "metadata": {},
   "outputs": [],
   "source": []
  }
 ],
 "metadata": {
  "kernelspec": {
   "display_name": "Python 3",
   "language": "python",
   "name": "python3"
  },
  "language_info": {
   "codemirror_mode": {
    "name": "ipython",
    "version": 3
   },
   "file_extension": ".py",
   "mimetype": "text/x-python",
   "name": "python",
   "nbconvert_exporter": "python",
   "pygments_lexer": "ipython3",
   "version": "3.7.0"
  }
 },
 "nbformat": 4,
 "nbformat_minor": 2
}
