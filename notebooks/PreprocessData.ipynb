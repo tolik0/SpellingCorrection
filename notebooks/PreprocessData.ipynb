{
 "cells": [
  {
   "cell_type": "code",
   "execution_count": 1,
   "metadata": {},
   "outputs": [],
   "source": [
    "import re\n",
    "import nltk\n",
    "from numpy.random import choice as random_choice, randint as random_randint, rand\n",
    "import copy"
   ]
  },
  {
   "cell_type": "code",
   "execution_count": 5,
   "metadata": {},
   "outputs": [],
   "source": [
    "def add_noise_to_sentence(sentence, amount_of_noise): # Add artificial spelling mistakes to string    \n",
    "    \n",
    "    CHARS = list(\"abcdefghijklmnopqrstuvwxyzABCDEFGHIJKLMNOPQRSTUVWXYZ .\")\n",
    "\n",
    "    if rand() < amount_of_noise * len(sentence):\n",
    "        # Replace a character with a random character\n",
    "        random_word_position = random_randint(len(sentence))\n",
    "        random_char_position = random_randint(len(sentence[random_word_position]))\n",
    "        sentence[random_word_position] = sentence[random_word_position][:random_char_position] + random_choice(CHARS[:-1]) + sentence[random_word_position][random_char_position + 1:]\n",
    "        \n",
    "    if rand() < amount_of_noise * len(sentence):\n",
    "        # Delete a character\n",
    "        random_word_position = random_randint(len(sentence))\n",
    "        random_char_position = random_randint(len(sentence[random_word_position]))\n",
    "        sentence[random_word_position] = sentence[random_word_position][:random_char_position] + sentence[random_word_position][random_char_position + 1:]\n",
    "        \n",
    "    if rand() < amount_of_noise * len(sentence):\n",
    "        # Add a random character\n",
    "        random_word_position = random_randint(len(sentence))\n",
    "        random_char_position = random_randint(len(sentence[random_word_position]))\n",
    "        sentence[random_word_position] = sentence[random_word_position][:random_char_position] + random_choice(CHARS[:-1]) + sentence[random_word_position][random_char_position:]\n",
    "        \n",
    "    if rand() < amount_of_noise * len(sentence):\n",
    "        # Transpose 2 characters\n",
    "        random_word_position = random_randint(len(sentence))\n",
    "        if len(sentence[random_word_position]) > 1:\n",
    "            random_char_position = random_randint(len(sentence[random_word_position]))\n",
    "            sentence[random_word_position] = (sentence[random_word_position][:random_char_position] + sentence[random_word_position][random_char_position + 1] + \n",
    "                        sentence[random_word_position][random_char_position] + sentence[random_word_position][random_char_position + 2:])\n",
    "    return sentence"
   ]
  },
  {
   "cell_type": "code",
   "execution_count": 6,
   "metadata": {},
   "outputs": [],
   "source": [
    "def load_data(file_name = \"D:\\Programming\\SpellingCorrection\\data\\pubmed-rct-master\\PubMed_20k_RCT\\\\train.txt\"):\n",
    "    \n",
    "    with open(file_name, \"r\", encoding = \"utf-8\") as file:\n",
    "        text = file.read()\n",
    "\n",
    "    data = [nltk.word_tokenize(re.sub(r\"[^a-z]+\", \" \", sentence.lower())) for sentence in nltk.sent_tokenize(text)]\n",
    "\n",
    "    AMOUNT_OF_NOISE = 0.2 / len(max(data, key = lambda x: len(x)))\n",
    "    \n",
    "    source_sentences = copy.deepcopy(data)\n",
    "    target_sentences = copy.deepcopy(data)\n",
    "\n",
    "    for i in range(len(data)):\n",
    "        source_sentences[i] = add_noise_to_sentence(data[i], AMOUNT_OF_NOISE)\n",
    "\n",
    "    print('\\nFirst 10 sentence:')\n",
    "    for i in range (0, 10):\n",
    "        print(\"\\nSource --> \" + source_sentences[i])\n",
    "        print(\"Target --> \" + target_sentences[i])\n",
    "        \n",
    "    # Datasets\n",
    "    # Take a look at the initial source of target datasets\n",
    "    print(\"\\nThe source is comprised of {:,} sentences. Here are the first 10.\".format(len(source_sentences)))\n",
    "    print(\"\\n\".join(source_sentences[:10]))\n",
    "    \n",
    "    print(\"\\nThe target is comprised of {:,} sentences. Here are the first 10.\".format(len(target_sentences)))\n",
    "    print(\"\\n\".join(target_sentences[:10]))\n",
    "    \n",
    "    return source_sentences, target_sentences"
   ]
  },
  {
   "cell_type": "code",
   "execution_count": 7,
   "metadata": {},
   "outputs": [
    {
     "ename": "IndexError",
     "evalue": "string index out of range",
     "output_type": "error",
     "traceback": [
      "\u001b[1;31m---------------------------------------------------------------------------\u001b[0m",
      "\u001b[1;31mIndexError\u001b[0m                                Traceback (most recent call last)",
      "\u001b[1;32m<ipython-input-7-60d48ce199c8>\u001b[0m in \u001b[0;36m<module>\u001b[1;34m()\u001b[0m\n\u001b[1;32m----> 1\u001b[1;33m \u001b[0msource_sentences\u001b[0m\u001b[1;33m,\u001b[0m \u001b[0mtarget_sentences\u001b[0m \u001b[1;33m=\u001b[0m \u001b[0mload_data\u001b[0m\u001b[1;33m(\u001b[0m\u001b[1;33m)\u001b[0m\u001b[1;33m\u001b[0m\u001b[0m\n\u001b[0m",
      "\u001b[1;32m<ipython-input-6-59a2baf9c006>\u001b[0m in \u001b[0;36mload_data\u001b[1;34m(file_name)\u001b[0m\n\u001b[0;32m     12\u001b[0m \u001b[1;33m\u001b[0m\u001b[0m\n\u001b[0;32m     13\u001b[0m     \u001b[1;32mfor\u001b[0m \u001b[0mi\u001b[0m \u001b[1;32min\u001b[0m \u001b[0mrange\u001b[0m\u001b[1;33m(\u001b[0m\u001b[0mlen\u001b[0m\u001b[1;33m(\u001b[0m\u001b[0mdata\u001b[0m\u001b[1;33m)\u001b[0m\u001b[1;33m)\u001b[0m\u001b[1;33m:\u001b[0m\u001b[1;33m\u001b[0m\u001b[0m\n\u001b[1;32m---> 14\u001b[1;33m         \u001b[0msource_sentences\u001b[0m\u001b[1;33m[\u001b[0m\u001b[0mi\u001b[0m\u001b[1;33m]\u001b[0m \u001b[1;33m=\u001b[0m \u001b[0madd_noise_to_sentence\u001b[0m\u001b[1;33m(\u001b[0m\u001b[0mdata\u001b[0m\u001b[1;33m[\u001b[0m\u001b[0mi\u001b[0m\u001b[1;33m]\u001b[0m\u001b[1;33m,\u001b[0m \u001b[0mAMOUNT_OF_NOISE\u001b[0m\u001b[1;33m)\u001b[0m\u001b[1;33m\u001b[0m\u001b[0m\n\u001b[0m\u001b[0;32m     15\u001b[0m \u001b[1;33m\u001b[0m\u001b[0m\n\u001b[0;32m     16\u001b[0m     \u001b[0mprint\u001b[0m\u001b[1;33m(\u001b[0m\u001b[1;34m'\\nFirst 10 sentence:'\u001b[0m\u001b[1;33m)\u001b[0m\u001b[1;33m\u001b[0m\u001b[0m\n",
      "\u001b[1;32m<ipython-input-5-3a53dd45c54e>\u001b[0m in \u001b[0;36madd_noise_to_sentence\u001b[1;34m(sentence, amount_of_noise)\u001b[0m\n\u001b[0;32m     27\u001b[0m             \u001b[0mrandom_char_position\u001b[0m \u001b[1;33m=\u001b[0m \u001b[0mrandom_randint\u001b[0m\u001b[1;33m(\u001b[0m\u001b[0mlen\u001b[0m\u001b[1;33m(\u001b[0m\u001b[0msentence\u001b[0m\u001b[1;33m[\u001b[0m\u001b[0mrandom_word_position\u001b[0m\u001b[1;33m]\u001b[0m\u001b[1;33m)\u001b[0m\u001b[1;33m)\u001b[0m\u001b[1;33m\u001b[0m\u001b[0m\n\u001b[0;32m     28\u001b[0m             sentence[random_word_position] = (sentence[random_word_position][:random_char_position] + sentence[random_word_position][random_char_position + 1] + \n\u001b[1;32m---> 29\u001b[1;33m                         sentence[random_word_position][random_char_position] + sentence[random_word_position][random_char_position + 2:])\n\u001b[0m\u001b[0;32m     30\u001b[0m     \u001b[1;32mreturn\u001b[0m \u001b[0msentence\u001b[0m\u001b[1;33m\u001b[0m\u001b[0m\n",
      "\u001b[1;31mIndexError\u001b[0m: string index out of range"
     ]
    }
   ],
   "source": [
    "source_sentences, target_sentences = load_data()\n"
   ]
  },
  {
   "cell_type": "code",
   "execution_count": null,
   "metadata": {},
   "outputs": [],
   "source": []
  }
 ],
 "metadata": {
  "kernelspec": {
   "display_name": "Python 3",
   "language": "python",
   "name": "python3"
  },
  "language_info": {
   "codemirror_mode": {
    "name": "ipython",
    "version": 3
   },
   "file_extension": ".py",
   "mimetype": "text/x-python",
   "name": "python",
   "nbconvert_exporter": "python",
   "pygments_lexer": "ipython3",
   "version": "3.7.0"
  }
 },
 "nbformat": 4,
 "nbformat_minor": 2
}
