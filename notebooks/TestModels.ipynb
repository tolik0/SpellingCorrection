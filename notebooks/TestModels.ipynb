{
 "cells": [
  {
   "cell_type": "code",
   "execution_count": 1,
   "metadata": {},
   "outputs": [],
   "source": [
    "import sys\n",
    "sys.path.append('..\\\\')\n",
    "import numpy as np\n",
    "import gensim\n",
    "from gensim.models.word2vec import Word2Vec\n",
    "from gensim.models.fasttext import FastText\n",
    "from scripts.epoch_logger import EpochLogger\n",
    "from scripts.preprocess_data import load_data\n",
    "from scripts.embeddingCorrector import EmbeddingCorrector\n"
   ]
  },
  {
   "cell_type": "code",
   "execution_count": 2,
   "metadata": {},
   "outputs": [
    {
     "name": "stdout",
     "output_type": "stream",
     "text": [
      "\n",
      "First 10 sentence:\n",
      "\n",
      "Source --> the emergence of as a chronic condition means thuat people living with are required to take moer responsibility for the self management of their condition including making physical emotional and social adjustments\n",
      "Target --> the emergence of as a chronic condition means that people living with are required to take more responsibility for the self management of their condition including making physical emotional and social adjustments\n",
      "Different\n",
      "\n",
      "Source --> this paper describes the design and evaluation of positive outlooq an online program aiming to enhance the self management skills of gay men living with\n",
      "Target --> this paper describes the design and evaluation of positive outlook an online program aiming to enhance the self management skills of gay men living with\n",
      "Different\n",
      "\n",
      "Source --> this study is designed as a randomised controlled trial in which men living with in australia will be assigned to either an intervention group or usual care control group\n",
      "Target --> this study is designed as a randomised controlled trial in which men living with in australia will be assigned to either an intervention group or usual care control group\n",
      "Same\n",
      "\n",
      "Source --> the intervention grop will partiicpate in the online group program positive outlook\n",
      "Target --> the intervention group will participate in the online group program positive outlook\n",
      "Different\n",
      "\n",
      "Source --> hte program is based on self efficacy theory and uses a self management approach to enhance skills confidence and abilities to manage the psychosocial issues associated with in daily life\n",
      "Target --> the program is based on self efficacy theory and uses a self management approach to enhance skills confidence and abilities to manage the psychosocial issues associated with in daily life\n",
      "Different\n",
      "\n",
      "Source --> participants will access the program for a minimum of minutes per week over seven weeks\n",
      "Target --> participants will access the program for a minimum of minutes per week over seven weeks\n",
      "Same\n",
      "\n",
      "Source --> primary outcomes are domain specific self efficacy related quality of life and outcomes of health education\n",
      "Target --> primary outcomes are domain specific self efficacy related quality of life and outcomes of health education\n",
      "Same\n",
      "\n",
      "Source --> secondary outcomes include depression anxiety and stress general health and qulaity of life adjustment to and social support\n",
      "Target --> secondary outcomes include depression anxiety and stress general health and quality of life adjustment to and social support\n",
      "Different\n",
      "\n",
      "Source --> data collection will take place at baseline complietion of the intervention or eight weeks post randomisation and at week follow up\n",
      "Target --> data collection will take place at baseline completion of the intervention or eight weeks post randomisation and at week follow up\n",
      "Different\n",
      "\n",
      "Source --> results of the positive outlook study will provide nformation regarding the effectiveness of online group programs improving health related outcomes for men living with\n",
      "Target --> results of the positive outlook study will provide information regarding the effectiveness of online group programs improving health related outcomes for men living with\n",
      "Different\n",
      "\n",
      "The source is comprised of 867 sentences. Here are the first 10.\n",
      "1. the emergence of as a chronic condition means thuat people living with are required to take moer responsibility for the self management of their condition including making physical emotional and social adjustments\n",
      "2. this paper describes the design and evaluation of positive outlooq an online program aiming to enhance the self management skills of gay men living with\n",
      "3. this study is designed as a randomised controlled trial in which men living with in australia will be assigned to either an intervention group or usual care control group\n",
      "4. the intervention grop will partiicpate in the online group program positive outlook\n",
      "5. hte program is based on self efficacy theory and uses a self management approach to enhance skills confidence and abilities to manage the psychosocial issues associated with in daily life\n",
      "6. participants will access the program for a minimum of minutes per week over seven weeks\n",
      "7. primary outcomes are domain specific self efficacy related quality of life and outcomes of health education\n",
      "8. secondary outcomes include depression anxiety and stress general health and qulaity of life adjustment to and social support\n",
      "9. data collection will take place at baseline complietion of the intervention or eight weeks post randomisation and at week follow up\n",
      "10. results of the positive outlook study will provide nformation regarding the effectiveness of online group programs improving health related outcomes for men living with\n",
      "\n",
      "The target is comprised of 867 sentences. Here are the first 10.\n",
      "1. the emergence of as a chronic condition means that people living with are required to take more responsibility for the self management of their condition including making physical emotional and social adjustments\n",
      "2. this paper describes the design and evaluation of positive outlook an online program aiming to enhance the self management skills of gay men living with\n",
      "3. this study is designed as a randomised controlled trial in which men living with in australia will be assigned to either an intervention group or usual care control group\n",
      "4. the intervention group will participate in the online group program positive outlook\n",
      "5. the program is based on self efficacy theory and uses a self management approach to enhance skills confidence and abilities to manage the psychosocial issues associated with in daily life\n",
      "6. participants will access the program for a minimum of minutes per week over seven weeks\n",
      "7. primary outcomes are domain specific self efficacy related quality of life and outcomes of health education\n",
      "8. secondary outcomes include depression anxiety and stress general health and quality of life adjustment to and social support\n",
      "9. data collection will take place at baseline completion of the intervention or eight weeks post randomisation and at week follow up\n",
      "10. results of the positive outlook study will provide information regarding the effectiveness of online group programs improving health related outcomes for men living with\n"
     ]
    }
   ],
   "source": [
    "fast_text_model = FastText.load(\"..\\\\models\\\\fasttext2_3_100_no_abbr\\\\fasttext2_3_100_no_abbr.model\")\n",
    "source, target = load_data('..\\\\data\\\\trainpart.txt')"
   ]
  },
  {
   "cell_type": "code",
   "execution_count": 3,
   "metadata": {},
   "outputs": [],
   "source": [
    "ec = EmbeddingCorrector(fast_text_model)"
   ]
  },
  {
   "cell_type": "code",
   "execution_count": 4,
   "metadata": {},
   "outputs": [],
   "source": [
    "def difference(x, y):\n",
    "    return sum([1 if x[i]!=y[i] else 0 for i in range(len(x))])\n",
    "\n",
    "def score(ec, source, target, x = 1000):\n",
    "    succes, total = 0, 0\n",
    "    edited = ec.correct_text(source[:x])\n",
    "    for i in range(x):\n",
    "        if difference(source[i], target[i]):\n",
    "            total += difference(source[i], target[i])\n",
    "            succes += difference(edited[i], target[i])\n",
    "            if difference(source[i], target[i])<difference(edited[i], target[i]):\n",
    "                print(\"Source -> \", \" \".join(source[i]))\n",
    "                print(\"Edited -> \", \" \".join(edited[i]))\n",
    "                print(\"Target -> \", \" \".join(target[i]))\n",
    "    return 1 - (succes/total)"
   ]
  },
  {
   "cell_type": "code",
   "execution_count": 5,
   "metadata": {},
   "outputs": [
    {
     "data": {
      "text/plain": [
       "0.2153846153846154"
      ]
     },
     "execution_count": 5,
     "metadata": {},
     "output_type": "execute_result"
    }
   ],
   "source": [
    "score(ec, source, target, x=len(source))"
   ]
  },
  {
   "cell_type": "code",
   "execution_count": 7,
   "metadata": {},
   "outputs": [],
   "source": [
    "word2vec_model = Word2Vec.load(\"..\\\\models\\\\word2vec200k\\\\word2vec200k.model\")"
   ]
  },
  {
   "cell_type": "code",
   "execution_count": 9,
   "metadata": {},
   "outputs": [],
   "source": [
    "wec = EmbeddingCorrector(word2vec_model)"
   ]
  },
  {
   "cell_type": "code",
   "execution_count": 10,
   "metadata": {},
   "outputs": [
    {
     "ename": "KeyError",
     "evalue": "\"word 'stuy' not in vocabulary\"",
     "output_type": "error",
     "traceback": [
      "\u001b[1;31m---------------------------------------------------------------------------\u001b[0m",
      "\u001b[1;31mKeyError\u001b[0m                                  Traceback (most recent call last)",
      "\u001b[1;32m<ipython-input-10-5063a427a302>\u001b[0m in \u001b[0;36m<module>\u001b[1;34m\u001b[0m\n\u001b[1;32m----> 1\u001b[1;33m \u001b[0mscore\u001b[0m\u001b[1;33m(\u001b[0m\u001b[0mwec\u001b[0m\u001b[1;33m,\u001b[0m \u001b[0msource\u001b[0m\u001b[1;33m,\u001b[0m \u001b[0mtarget\u001b[0m\u001b[1;33m,\u001b[0m \u001b[0mx\u001b[0m\u001b[1;33m=\u001b[0m\u001b[1;36m10000\u001b[0m\u001b[1;33m)\u001b[0m\u001b[1;33m\u001b[0m\u001b[1;33m\u001b[0m\u001b[0m\n\u001b[0m",
      "\u001b[1;32m<ipython-input-6-1a49f5243a89>\u001b[0m in \u001b[0;36mscore\u001b[1;34m(ec, source, target, x)\u001b[0m\n\u001b[0;32m      4\u001b[0m \u001b[1;32mdef\u001b[0m \u001b[0mscore\u001b[0m\u001b[1;33m(\u001b[0m\u001b[0mec\u001b[0m\u001b[1;33m,\u001b[0m \u001b[0msource\u001b[0m\u001b[1;33m,\u001b[0m \u001b[0mtarget\u001b[0m\u001b[1;33m,\u001b[0m \u001b[0mx\u001b[0m \u001b[1;33m=\u001b[0m \u001b[1;36m1000\u001b[0m\u001b[1;33m)\u001b[0m\u001b[1;33m:\u001b[0m\u001b[1;33m\u001b[0m\u001b[1;33m\u001b[0m\u001b[0m\n\u001b[0;32m      5\u001b[0m     \u001b[0msucces\u001b[0m\u001b[1;33m,\u001b[0m \u001b[0mtotal\u001b[0m \u001b[1;33m=\u001b[0m \u001b[1;36m0\u001b[0m\u001b[1;33m,\u001b[0m \u001b[1;36m0\u001b[0m\u001b[1;33m\u001b[0m\u001b[1;33m\u001b[0m\u001b[0m\n\u001b[1;32m----> 6\u001b[1;33m     \u001b[0medited\u001b[0m \u001b[1;33m=\u001b[0m \u001b[0mec\u001b[0m\u001b[1;33m.\u001b[0m\u001b[0mcorrect_text\u001b[0m\u001b[1;33m(\u001b[0m\u001b[0msource\u001b[0m\u001b[1;33m[\u001b[0m\u001b[1;33m:\u001b[0m\u001b[0mx\u001b[0m\u001b[1;33m]\u001b[0m\u001b[1;33m)\u001b[0m\u001b[1;33m\u001b[0m\u001b[1;33m\u001b[0m\u001b[0m\n\u001b[0m\u001b[0;32m      7\u001b[0m     \u001b[1;32mfor\u001b[0m \u001b[0mi\u001b[0m \u001b[1;32min\u001b[0m \u001b[0mrange\u001b[0m\u001b[1;33m(\u001b[0m\u001b[0mx\u001b[0m\u001b[1;33m)\u001b[0m\u001b[1;33m:\u001b[0m\u001b[1;33m\u001b[0m\u001b[1;33m\u001b[0m\u001b[0m\n\u001b[0;32m      8\u001b[0m         \u001b[1;32mif\u001b[0m \u001b[0mdifference\u001b[0m\u001b[1;33m(\u001b[0m\u001b[0msource\u001b[0m\u001b[1;33m[\u001b[0m\u001b[0mi\u001b[0m\u001b[1;33m]\u001b[0m\u001b[1;33m,\u001b[0m \u001b[0mtarget\u001b[0m\u001b[1;33m[\u001b[0m\u001b[0mi\u001b[0m\u001b[1;33m]\u001b[0m\u001b[1;33m)\u001b[0m\u001b[1;33m:\u001b[0m\u001b[1;33m\u001b[0m\u001b[1;33m\u001b[0m\u001b[0m\n",
      "\u001b[1;32m~\\Projects\\SpellingCorrection\\scripts\\embeddingCorrector.py\u001b[0m in \u001b[0;36mcorrect_text\u001b[1;34m(self, text, window, topn)\u001b[0m\n\u001b[0;32m     48\u001b[0m         \u001b[0mtext\u001b[0m \u001b[1;33m=\u001b[0m \u001b[0mcopy\u001b[0m\u001b[1;33m.\u001b[0m\u001b[0mdeepcopy\u001b[0m\u001b[1;33m(\u001b[0m\u001b[0mtext\u001b[0m\u001b[1;33m)\u001b[0m\u001b[1;33m\u001b[0m\u001b[1;33m\u001b[0m\u001b[0m\n\u001b[0;32m     49\u001b[0m         \u001b[1;32mfor\u001b[0m \u001b[0mi\u001b[0m \u001b[1;32min\u001b[0m \u001b[0mrange\u001b[0m\u001b[1;33m(\u001b[0m\u001b[0mlen\u001b[0m\u001b[1;33m(\u001b[0m\u001b[0mtext\u001b[0m\u001b[1;33m)\u001b[0m\u001b[1;33m)\u001b[0m\u001b[1;33m:\u001b[0m\u001b[1;33m\u001b[0m\u001b[1;33m\u001b[0m\u001b[0m\n\u001b[1;32m---> 50\u001b[1;33m                 \u001b[0mtext\u001b[0m\u001b[1;33m[\u001b[0m\u001b[0mi\u001b[0m\u001b[1;33m]\u001b[0m \u001b[1;33m=\u001b[0m \u001b[0mself\u001b[0m\u001b[1;33m.\u001b[0m\u001b[0mcorrect_sentence\u001b[0m\u001b[1;33m(\u001b[0m\u001b[0mtext\u001b[0m\u001b[1;33m[\u001b[0m\u001b[0mi\u001b[0m\u001b[1;33m]\u001b[0m\u001b[1;33m,\u001b[0m \u001b[0mwindow\u001b[0m\u001b[1;33m=\u001b[0m\u001b[0mwindow\u001b[0m\u001b[1;33m,\u001b[0m \u001b[0mtopn\u001b[0m\u001b[1;33m=\u001b[0m\u001b[0mtopn\u001b[0m\u001b[1;33m)\u001b[0m\u001b[1;33m\u001b[0m\u001b[1;33m\u001b[0m\u001b[0m\n\u001b[0m\u001b[0;32m     51\u001b[0m         \u001b[1;32mreturn\u001b[0m \u001b[0mtext\u001b[0m\u001b[1;33m\u001b[0m\u001b[1;33m\u001b[0m\u001b[0m\n",
      "\u001b[1;32m~\\Projects\\SpellingCorrection\\scripts\\embeddingCorrector.py\u001b[0m in \u001b[0;36mcorrect_sentence\u001b[1;34m(self, sentence, window, topn)\u001b[0m\n\u001b[0;32m     29\u001b[0m             \u001b[1;32mif\u001b[0m \u001b[0msentence\u001b[0m\u001b[1;33m[\u001b[0m\u001b[0mi\u001b[0m\u001b[1;33m]\u001b[0m \u001b[1;32mnot\u001b[0m \u001b[1;32min\u001b[0m \u001b[0mself\u001b[0m\u001b[1;33m.\u001b[0m\u001b[0mmodel\u001b[0m\u001b[1;33m.\u001b[0m\u001b[0mwv\u001b[0m\u001b[1;33m.\u001b[0m\u001b[0mvocab\u001b[0m\u001b[1;33m:\u001b[0m\u001b[1;33m\u001b[0m\u001b[1;33m\u001b[0m\u001b[0m\n\u001b[0;32m     30\u001b[0m \u001b[1;31m#                 candidates = predict_output_word(self.model, sentence[max(0, i - window): min(len(sentence), i + window + 1)], topn=topn)\u001b[0m\u001b[1;33m\u001b[0m\u001b[1;33m\u001b[0m\u001b[1;33m\u001b[0m\u001b[0m\n\u001b[1;32m---> 31\u001b[1;33m                 \u001b[0mcandidates\u001b[0m \u001b[1;33m=\u001b[0m \u001b[0mself\u001b[0m\u001b[1;33m.\u001b[0m\u001b[0mmodel\u001b[0m\u001b[1;33m.\u001b[0m\u001b[0mwv\u001b[0m\u001b[1;33m.\u001b[0m\u001b[0mmost_similar\u001b[0m\u001b[1;33m(\u001b[0m\u001b[1;33m[\u001b[0m\u001b[0msentence\u001b[0m\u001b[1;33m[\u001b[0m\u001b[0mi\u001b[0m\u001b[1;33m]\u001b[0m\u001b[1;33m]\u001b[0m\u001b[1;33m)\u001b[0m\u001b[1;33m\u001b[0m\u001b[1;33m\u001b[0m\u001b[0m\n\u001b[0m\u001b[0;32m     32\u001b[0m                 \u001b[1;31m# if no candidates were found\u001b[0m\u001b[1;33m\u001b[0m\u001b[1;33m\u001b[0m\u001b[1;33m\u001b[0m\u001b[0m\n\u001b[0;32m     33\u001b[0m                 \u001b[1;32mif\u001b[0m \u001b[0mcandidates\u001b[0m \u001b[1;32mis\u001b[0m \u001b[1;32mNone\u001b[0m\u001b[1;33m:\u001b[0m\u001b[1;33m\u001b[0m\u001b[1;33m\u001b[0m\u001b[0m\n",
      "\u001b[1;32m~\\Anaconda3\\envs\\tutorial\\lib\\site-packages\\gensim\\models\\keyedvectors.py\u001b[0m in \u001b[0;36mmost_similar\u001b[1;34m(self, positive, negative, topn, restrict_vocab, indexer)\u001b[0m\n\u001b[0;32m    541\u001b[0m                 \u001b[0mmean\u001b[0m\u001b[1;33m.\u001b[0m\u001b[0mappend\u001b[0m\u001b[1;33m(\u001b[0m\u001b[0mweight\u001b[0m \u001b[1;33m*\u001b[0m \u001b[0mword\u001b[0m\u001b[1;33m)\u001b[0m\u001b[1;33m\u001b[0m\u001b[1;33m\u001b[0m\u001b[0m\n\u001b[0;32m    542\u001b[0m             \u001b[1;32melse\u001b[0m\u001b[1;33m:\u001b[0m\u001b[1;33m\u001b[0m\u001b[1;33m\u001b[0m\u001b[0m\n\u001b[1;32m--> 543\u001b[1;33m                 \u001b[0mmean\u001b[0m\u001b[1;33m.\u001b[0m\u001b[0mappend\u001b[0m\u001b[1;33m(\u001b[0m\u001b[0mweight\u001b[0m \u001b[1;33m*\u001b[0m \u001b[0mself\u001b[0m\u001b[1;33m.\u001b[0m\u001b[0mword_vec\u001b[0m\u001b[1;33m(\u001b[0m\u001b[0mword\u001b[0m\u001b[1;33m,\u001b[0m \u001b[0muse_norm\u001b[0m\u001b[1;33m=\u001b[0m\u001b[1;32mTrue\u001b[0m\u001b[1;33m)\u001b[0m\u001b[1;33m)\u001b[0m\u001b[1;33m\u001b[0m\u001b[1;33m\u001b[0m\u001b[0m\n\u001b[0m\u001b[0;32m    544\u001b[0m                 \u001b[1;32mif\u001b[0m \u001b[0mword\u001b[0m \u001b[1;32min\u001b[0m \u001b[0mself\u001b[0m\u001b[1;33m.\u001b[0m\u001b[0mvocab\u001b[0m\u001b[1;33m:\u001b[0m\u001b[1;33m\u001b[0m\u001b[1;33m\u001b[0m\u001b[0m\n\u001b[0;32m    545\u001b[0m                     \u001b[0mall_words\u001b[0m\u001b[1;33m.\u001b[0m\u001b[0madd\u001b[0m\u001b[1;33m(\u001b[0m\u001b[0mself\u001b[0m\u001b[1;33m.\u001b[0m\u001b[0mvocab\u001b[0m\u001b[1;33m[\u001b[0m\u001b[0mword\u001b[0m\u001b[1;33m]\u001b[0m\u001b[1;33m.\u001b[0m\u001b[0mindex\u001b[0m\u001b[1;33m)\u001b[0m\u001b[1;33m\u001b[0m\u001b[1;33m\u001b[0m\u001b[0m\n",
      "\u001b[1;32m~\\Anaconda3\\envs\\tutorial\\lib\\site-packages\\gensim\\models\\keyedvectors.py\u001b[0m in \u001b[0;36mword_vec\u001b[1;34m(self, word, use_norm)\u001b[0m\n\u001b[0;32m    462\u001b[0m             \u001b[1;32mreturn\u001b[0m \u001b[0mresult\u001b[0m\u001b[1;33m\u001b[0m\u001b[1;33m\u001b[0m\u001b[0m\n\u001b[0;32m    463\u001b[0m         \u001b[1;32melse\u001b[0m\u001b[1;33m:\u001b[0m\u001b[1;33m\u001b[0m\u001b[1;33m\u001b[0m\u001b[0m\n\u001b[1;32m--> 464\u001b[1;33m             \u001b[1;32mraise\u001b[0m \u001b[0mKeyError\u001b[0m\u001b[1;33m(\u001b[0m\u001b[1;34m\"word '%s' not in vocabulary\"\u001b[0m \u001b[1;33m%\u001b[0m \u001b[0mword\u001b[0m\u001b[1;33m)\u001b[0m\u001b[1;33m\u001b[0m\u001b[1;33m\u001b[0m\u001b[0m\n\u001b[0m\u001b[0;32m    465\u001b[0m \u001b[1;33m\u001b[0m\u001b[0m\n\u001b[0;32m    466\u001b[0m     \u001b[1;32mdef\u001b[0m \u001b[0mget_vector\u001b[0m\u001b[1;33m(\u001b[0m\u001b[0mself\u001b[0m\u001b[1;33m,\u001b[0m \u001b[0mword\u001b[0m\u001b[1;33m)\u001b[0m\u001b[1;33m:\u001b[0m\u001b[1;33m\u001b[0m\u001b[1;33m\u001b[0m\u001b[0m\n",
      "\u001b[1;31mKeyError\u001b[0m: \"word 'stuy' not in vocabulary\""
     ]
    }
   ],
   "source": [
    "score(wec, source, target, x=10000)"
   ]
  },
  {
   "cell_type": "code",
   "execution_count": null,
   "metadata": {},
   "outputs": [],
   "source": [
    "wec.wv['concer']"
   ]
  }
 ],
 "metadata": {
  "kernelspec": {
   "display_name": "Python 3",
   "language": "python",
   "name": "python3"
  },
  "language_info": {
   "codemirror_mode": {
    "name": "ipython",
    "version": 3
   },
   "file_extension": ".py",
   "mimetype": "text/x-python",
   "name": "python",
   "nbconvert_exporter": "python",
   "pygments_lexer": "ipython3",
   "version": "3.6.8"
  }
 },
 "nbformat": 4,
 "nbformat_minor": 2
}
