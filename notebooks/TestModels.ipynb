{
 "cells": [
  {
   "cell_type": "code",
   "execution_count": 1,
   "metadata": {},
   "outputs": [],
   "source": [
    "import sys\n",
    "sys.path.append('..\\\\')\n",
    "import numpy as np\n",
    "import gensim\n",
    "from gensim.models.word2vec import Word2Vec\n",
    "from gensim.models.fasttext import FastText\n",
    "from scripts.epoch_logger import EpochLogger\n",
    "from scripts.preprocess_data import load_data\n",
    "from scripts.embeddingCorrector import EmbeddingCorrector\n"
   ]
  },
  {
   "cell_type": "code",
   "execution_count": 3,
   "metadata": {},
   "outputs": [
    {
     "name": "stdout",
     "output_type": "stream",
     "text": [
      "\n",
      "First 10 sentence:\n",
      "\n",
      "Source --> background many pathogenic processes and diseases are the result of an erroneous activation of the complement cascade and a number of inhibitors of complement have thus been examined for anti inflammatory actions\n",
      "Target --> background many pathogenic processes and diseases are the result of an erroneous activation of the complement cascade and a number of inhibitors of complement have thus been examined for anti inflammatory actions\n",
      "Same\n",
      "\n",
      "Source --> background it was recently demonstrated thayt supraphysiological concentrations of the endogenous complement inhibitor map also denoted map protect against myocardial reperfusion injury\n",
      "Target --> background it was recently demonstrated that supraphysiological concentrations of the endogenous complement inhibitor map also denoted map protect against myocardial reperfusion injury\n",
      "Different\n",
      "\n",
      "Source --> background in the present study we examined the association between outcome after acute mycardial infarction mi and the plasma levels of map and its related proteins masp and masp in patients with pfirst time mi\n",
      "Target --> background in the present study we examined the association between outcome after acute myocardial infarction mi and the plasma levels of map and its related proteins masp and masp in patients with first time mi\n",
      "Different\n",
      "\n",
      "Source --> background in addition we compared plasma levels of map maesp and masp in mi pateints to levels in a healthy control group\n",
      "Target --> background in addition we compared plasma levels of map masp and masp in mi patients to levels in a healthy control group\n",
      "Different\n",
      "\n",
      "Source --> methods a total of mi patients and control persons were included\n",
      "Target --> methods a total of mi patients and control persons were included\n",
      "Same\n",
      "\n",
      "Source --> methods plasma samples were obtained and analysed with time resolved immunofluorometric assays determining the plasma levels of map masp and masp\n",
      "Target --> methods plasma samples were obtained and analysed with time resolved immunofluorometric assays determining the plasma levels of map masp and masp\n",
      "Same\n",
      "\n",
      "Source --> methods the myocardial outcomes salvage index and final infarct size were measured by gated single photon emission ct\n",
      "Target --> methods the myocardial outcomes salvage index and final infarct size were measured by gated single photon emission ct\n",
      "Same\n",
      "\n",
      "Source --> results mi patients had higher plasma levels of map iqr as compared to the healthy control group p\n",
      "Target --> results mi patients had higher plasma levels of map iqr as compared to the healthy control group p\n",
      "Same\n",
      "\n",
      "Source --> results however neither salvage index spearman rho p nor final infarct size spearman rho p correlated with plasma levels of map\n",
      "Target --> results however neither salvage index spearman rho p nor final infarct size spearman rho p correlated with plasma levels of map\n",
      "Same\n",
      "\n",
      "Source --> results likwise masp and masp were elevated in mi patients p and p but the levels were not correlated to outcome\n",
      "Target --> results likewise masp and masp were elevated in mi patients p and p but the levels were not correlated to outcome\n",
      "Different\n",
      "\n",
      "The source is comprised of 29,720 sentences. Here are the first 10.\n",
      "background many pathogenic processes and diseases are the result of an erroneous activation of the complement cascade and a number of inhibitors of complement have thus been examined for anti inflammatory actions\n",
      "background it was recently demonstrated thayt supraphysiological concentrations of the endogenous complement inhibitor map also denoted map protect against myocardial reperfusion injury\n",
      "background in the present study we examined the association between outcome after acute mycardial infarction mi and the plasma levels of map and its related proteins masp and masp in patients with pfirst time mi\n",
      "background in addition we compared plasma levels of map maesp and masp in mi pateints to levels in a healthy control group\n",
      "methods a total of mi patients and control persons were included\n",
      "methods plasma samples were obtained and analysed with time resolved immunofluorometric assays determining the plasma levels of map masp and masp\n",
      "methods the myocardial outcomes salvage index and final infarct size were measured by gated single photon emission ct\n",
      "results mi patients had higher plasma levels of map iqr as compared to the healthy control group p\n",
      "results however neither salvage index spearman rho p nor final infarct size spearman rho p correlated with plasma levels of map\n",
      "results likwise masp and masp were elevated in mi patients p and p but the levels were not correlated to outcome\n",
      "\n",
      "The target is comprised of 29,720 sentences. Here are the first 10.\n",
      "background many pathogenic processes and diseases are the result of an erroneous activation of the complement cascade and a number of inhibitors of complement have thus been examined for anti inflammatory actions\n",
      "background it was recently demonstrated that supraphysiological concentrations of the endogenous complement inhibitor map also denoted map protect against myocardial reperfusion injury\n",
      "background in the present study we examined the association between outcome after acute myocardial infarction mi and the plasma levels of map and its related proteins masp and masp in patients with first time mi\n",
      "background in addition we compared plasma levels of map masp and masp in mi patients to levels in a healthy control group\n",
      "methods a total of mi patients and control persons were included\n",
      "methods plasma samples were obtained and analysed with time resolved immunofluorometric assays determining the plasma levels of map masp and masp\n",
      "methods the myocardial outcomes salvage index and final infarct size were measured by gated single photon emission ct\n",
      "results mi patients had higher plasma levels of map iqr as compared to the healthy control group p\n",
      "results however neither salvage index spearman rho p nor final infarct size spearman rho p correlated with plasma levels of map\n",
      "results likewise masp and masp were elevated in mi patients p and p but the levels were not correlated to outcome\n"
     ]
    }
   ],
   "source": [
    "fast_text_model = FastText.load(\"..\\\\models\\\\fasttext200k\\\\fasttext200k.model\")\n",
    "# word2vec_model = Word2Vec.load(\"..\\\\models\\\\word2vec200k\\\\word2vec200k.model\")\n",
    "source, target = load_data('..\\\\data\\\\pubmed-rct-master\\\\PubMed_200k_RCT\\\\test.txt')"
   ]
  },
  {
   "cell_type": "code",
   "execution_count": 4,
   "metadata": {},
   "outputs": [],
   "source": [
    "ec = EmbeddingCorrector(fast_text_model)"
   ]
  },
  {
   "cell_type": "code",
   "execution_count": 5,
   "metadata": {},
   "outputs": [],
   "source": [
    "def difference(x, y):\n",
    "    return sum([1 if x[i]!=y[i] else 0 for i in range(len(x))])\n",
    "\n",
    "def score(ec, source, target, x = 1000):\n",
    "    succes, total = 0, 0\n",
    "    edited = ec.correct_text(source[:x])\n",
    "    for i in range(x):\n",
    "        if difference(source[i], target[i]):\n",
    "            total += difference(source[i], target[i])\n",
    "            succes += difference(edited[i], target[i])\n",
    "    return 1 - (succes/total)"
   ]
  },
  {
   "cell_type": "code",
   "execution_count": 10,
   "metadata": {},
   "outputs": [
    {
     "name": "stdout",
     "output_type": "stream",
     "text": [
      "All the input context words are out-of-vocabulary for the current model.\n"
     ]
    },
    {
     "ename": "TypeError",
     "evalue": "'NoneType' object is not iterable",
     "output_type": "error",
     "traceback": [
      "\u001b[1;31m---------------------------------------------------------------------------\u001b[0m",
      "\u001b[1;31mTypeError\u001b[0m                                 Traceback (most recent call last)",
      "\u001b[1;32m<ipython-input-10-ab68bfbfd106>\u001b[0m in \u001b[0;36m<module>\u001b[1;34m()\u001b[0m\n\u001b[1;32m----> 1\u001b[1;33m \u001b[0mscore\u001b[0m\u001b[1;33m(\u001b[0m\u001b[0mec\u001b[0m\u001b[1;33m,\u001b[0m \u001b[0msource\u001b[0m\u001b[1;33m,\u001b[0m \u001b[0mtarget\u001b[0m\u001b[1;33m,\u001b[0m \u001b[0mx\u001b[0m\u001b[1;33m=\u001b[0m\u001b[0mlen\u001b[0m\u001b[1;33m(\u001b[0m\u001b[0msource\u001b[0m\u001b[1;33m)\u001b[0m\u001b[1;33m-\u001b[0m\u001b[1;36m1\u001b[0m\u001b[1;33m)\u001b[0m\u001b[1;33m\u001b[0m\u001b[0m\n\u001b[0m",
      "\u001b[1;32m<ipython-input-5-1a49f5243a89>\u001b[0m in \u001b[0;36mscore\u001b[1;34m(ec, source, target, x)\u001b[0m\n\u001b[0;32m      4\u001b[0m \u001b[1;32mdef\u001b[0m \u001b[0mscore\u001b[0m\u001b[1;33m(\u001b[0m\u001b[0mec\u001b[0m\u001b[1;33m,\u001b[0m \u001b[0msource\u001b[0m\u001b[1;33m,\u001b[0m \u001b[0mtarget\u001b[0m\u001b[1;33m,\u001b[0m \u001b[0mx\u001b[0m \u001b[1;33m=\u001b[0m \u001b[1;36m1000\u001b[0m\u001b[1;33m)\u001b[0m\u001b[1;33m:\u001b[0m\u001b[1;33m\u001b[0m\u001b[0m\n\u001b[0;32m      5\u001b[0m     \u001b[0msucces\u001b[0m\u001b[1;33m,\u001b[0m \u001b[0mtotal\u001b[0m \u001b[1;33m=\u001b[0m \u001b[1;36m0\u001b[0m\u001b[1;33m,\u001b[0m \u001b[1;36m0\u001b[0m\u001b[1;33m\u001b[0m\u001b[0m\n\u001b[1;32m----> 6\u001b[1;33m     \u001b[0medited\u001b[0m \u001b[1;33m=\u001b[0m \u001b[0mec\u001b[0m\u001b[1;33m.\u001b[0m\u001b[0mcorrect_text\u001b[0m\u001b[1;33m(\u001b[0m\u001b[0msource\u001b[0m\u001b[1;33m[\u001b[0m\u001b[1;33m:\u001b[0m\u001b[0mx\u001b[0m\u001b[1;33m]\u001b[0m\u001b[1;33m)\u001b[0m\u001b[1;33m\u001b[0m\u001b[0m\n\u001b[0m\u001b[0;32m      7\u001b[0m     \u001b[1;32mfor\u001b[0m \u001b[0mi\u001b[0m \u001b[1;32min\u001b[0m \u001b[0mrange\u001b[0m\u001b[1;33m(\u001b[0m\u001b[0mx\u001b[0m\u001b[1;33m)\u001b[0m\u001b[1;33m:\u001b[0m\u001b[1;33m\u001b[0m\u001b[0m\n\u001b[0;32m      8\u001b[0m         \u001b[1;32mif\u001b[0m \u001b[0mdifference\u001b[0m\u001b[1;33m(\u001b[0m\u001b[0msource\u001b[0m\u001b[1;33m[\u001b[0m\u001b[0mi\u001b[0m\u001b[1;33m]\u001b[0m\u001b[1;33m,\u001b[0m \u001b[0mtarget\u001b[0m\u001b[1;33m[\u001b[0m\u001b[0mi\u001b[0m\u001b[1;33m]\u001b[0m\u001b[1;33m)\u001b[0m\u001b[1;33m:\u001b[0m\u001b[1;33m\u001b[0m\u001b[0m\n",
      "\u001b[1;32mD:\\Programming\\SpellingCorrection\\scripts\\embeddingCorrector.py\u001b[0m in \u001b[0;36mcorrect_text\u001b[1;34m(self, text, window, topn)\u001b[0m\n\u001b[0;32m     45\u001b[0m         \u001b[0mtext\u001b[0m \u001b[1;33m=\u001b[0m \u001b[0mcopy\u001b[0m\u001b[1;33m.\u001b[0m\u001b[0mdeepcopy\u001b[0m\u001b[1;33m(\u001b[0m\u001b[0mtext\u001b[0m\u001b[1;33m)\u001b[0m\u001b[1;33m\u001b[0m\u001b[0m\n\u001b[0;32m     46\u001b[0m         \u001b[1;32mfor\u001b[0m \u001b[0mi\u001b[0m \u001b[1;32min\u001b[0m \u001b[0mrange\u001b[0m\u001b[1;33m(\u001b[0m\u001b[0mlen\u001b[0m\u001b[1;33m(\u001b[0m\u001b[0mtext\u001b[0m\u001b[1;33m)\u001b[0m\u001b[1;33m)\u001b[0m\u001b[1;33m:\u001b[0m\u001b[1;33m\u001b[0m\u001b[0m\n\u001b[1;32m---> 47\u001b[1;33m                 \u001b[0mtext\u001b[0m\u001b[1;33m[\u001b[0m\u001b[0mi\u001b[0m\u001b[1;33m]\u001b[0m \u001b[1;33m=\u001b[0m \u001b[0mself\u001b[0m\u001b[1;33m.\u001b[0m\u001b[0mcorrect_sentence\u001b[0m\u001b[1;33m(\u001b[0m\u001b[0mtext\u001b[0m\u001b[1;33m[\u001b[0m\u001b[0mi\u001b[0m\u001b[1;33m]\u001b[0m\u001b[1;33m,\u001b[0m \u001b[0mwindow\u001b[0m\u001b[1;33m=\u001b[0m\u001b[0mwindow\u001b[0m\u001b[1;33m,\u001b[0m \u001b[0mtopn\u001b[0m\u001b[1;33m=\u001b[0m\u001b[0mtopn\u001b[0m\u001b[1;33m)\u001b[0m\u001b[1;33m\u001b[0m\u001b[0m\n\u001b[0m\u001b[0;32m     48\u001b[0m         \u001b[1;32mreturn\u001b[0m \u001b[0mtext\u001b[0m\u001b[1;33m\u001b[0m\u001b[0m\n",
      "\u001b[1;32mD:\\Programming\\SpellingCorrection\\scripts\\embeddingCorrector.py\u001b[0m in \u001b[0;36mcorrect_sentence\u001b[1;34m(self, sentence, window, topn)\u001b[0m\n\u001b[0;32m     30\u001b[0m                 candidates = predict_output_word(self.model, sentence[max(0, i - window): i] +\n\u001b[0;32m     31\u001b[0m                                                  sentence[i + 1: min(len(sentence) - 1, i + window + 1)], topn=topn)\n\u001b[1;32m---> 32\u001b[1;33m                 \u001b[0msentence\u001b[0m\u001b[1;33m[\u001b[0m\u001b[0mi\u001b[0m\u001b[1;33m]\u001b[0m \u001b[1;33m=\u001b[0m \u001b[0mmin\u001b[0m\u001b[1;33m(\u001b[0m\u001b[0mcandidates\u001b[0m\u001b[1;33m,\u001b[0m \u001b[0mkey\u001b[0m\u001b[1;33m=\u001b[0m\u001b[1;32mlambda\u001b[0m \u001b[0mx\u001b[0m\u001b[1;33m:\u001b[0m \u001b[0mdamerau_levenshtein_distance\u001b[0m\u001b[1;33m(\u001b[0m\u001b[0mx\u001b[0m\u001b[1;33m[\u001b[0m\u001b[1;36m0\u001b[0m\u001b[1;33m]\u001b[0m\u001b[1;33m,\u001b[0m \u001b[0msentence\u001b[0m\u001b[1;33m[\u001b[0m\u001b[0mi\u001b[0m\u001b[1;33m]\u001b[0m\u001b[1;33m)\u001b[0m\u001b[1;33m)\u001b[0m\u001b[1;33m[\u001b[0m\u001b[1;36m0\u001b[0m\u001b[1;33m]\u001b[0m\u001b[1;33m\u001b[0m\u001b[0m\n\u001b[0m\u001b[0;32m     33\u001b[0m         \u001b[1;32mreturn\u001b[0m \u001b[0msentence\u001b[0m\u001b[1;33m\u001b[0m\u001b[0m\n\u001b[0;32m     34\u001b[0m \u001b[1;33m\u001b[0m\u001b[0m\n",
      "\u001b[1;31mTypeError\u001b[0m: 'NoneType' object is not iterable"
     ]
    }
   ],
   "source": [
    "score(ec, source, target, x=len(source)-1)"
   ]
  },
  {
   "cell_type": "code",
   "execution_count": null,
   "metadata": {},
   "outputs": [],
   "source": []
  }
 ],
 "metadata": {
  "kernelspec": {
   "display_name": "Python 3",
   "language": "python",
   "name": "python3"
  },
  "language_info": {
   "codemirror_mode": {
    "name": "ipython",
    "version": 3
   },
   "file_extension": ".py",
   "mimetype": "text/x-python",
   "name": "python",
   "nbconvert_exporter": "python",
   "pygments_lexer": "ipython3",
   "version": "3.7.0"
  }
 },
 "nbformat": 4,
 "nbformat_minor": 2
}
