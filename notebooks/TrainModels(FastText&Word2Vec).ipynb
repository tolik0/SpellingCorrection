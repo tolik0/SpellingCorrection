{
 "cells": [
  {
   "cell_type": "code",
   "execution_count": 7,
   "metadata": {},
   "outputs": [],
   "source": [
    "import sys\n",
    "sys.path.append('..\\\\')\n",
    "import os\n",
    "import re\n",
    "import numpy as np\n",
    "import gensim\n",
    "import nltk\n",
    "from gensim.models.word2vec import Word2Vec\n",
    "from gensim.models.fasttext import FastText\n",
    "from scripts.epoch_logger import EpochLogger\n",
    "from scripts.predict_from_context import predict_output_word"
   ]
  },
  {
   "cell_type": "markdown",
   "metadata": {},
   "source": [
    "## Training"
   ]
  },
  {
   "cell_type": "code",
   "execution_count": 8,
   "metadata": {},
   "outputs": [],
   "source": [
    "DATA_FOLDER = \"..\\\\data\\\\\"\n",
    "train_path = os.path.join(DATA_FOLDER, \"train.txt\")\n",
    "with open(train_path) as file:\n",
    "    text = file.read()"
   ]
  },
  {
   "cell_type": "code",
   "execution_count": 9,
   "metadata": {},
   "outputs": [],
   "source": [
    "data = [nltk.word_tokenize(re.sub(r\"[^a-z]+\", \" \", sentence.lower())) for sentence in nltk.sent_tokenize(text)]"
   ]
  },
  {
   "cell_type": "markdown",
   "metadata": {},
   "source": [
    "### FastText"
   ]
  },
  {
   "cell_type": "code",
   "execution_count": 16,
   "metadata": {},
   "outputs": [],
   "source": [
    "epoch_logger = EpochLogger()\n",
    "fast_text_model = FastText(sg=1, min_n=2, max_n=3, workers=12, callbacks=(epoch_logger), size=100)\n",
    "\n",
    "# build the vocabulary\n",
    "fast_text_model.build_vocab(data)"
   ]
  },
  {
   "cell_type": "code",
   "execution_count": 18,
   "metadata": {},
   "outputs": [
    {
     "name": "stdout",
     "output_type": "stream",
     "text": [
      "Epoch #0 start\n",
      "Epoch #0 end\n",
      "Epoch #1 start\n",
      "Epoch #1 end\n",
      "Epoch #2 start\n",
      "Epoch #2 end\n",
      "Epoch #3 start\n",
      "Epoch #3 end\n",
      "Epoch #4 start\n",
      "Epoch #4 end\n",
      "Epoch #5 start\n",
      "Epoch #5 end\n",
      "Epoch #6 start\n",
      "Epoch #6 end\n",
      "Epoch #7 start\n",
      "Epoch #7 end\n",
      "Epoch #8 start\n",
      "Epoch #8 end\n",
      "Epoch #9 start\n",
      "Epoch #9 end\n"
     ]
    }
   ],
   "source": [
    "# train the model\n",
    "fast_text_model.train(data, total_examples=fast_text_model.corpus_count, epochs=10, callbacks=(epoch_logger,))"
   ]
  },
  {
   "cell_type": "code",
   "execution_count": 26,
   "metadata": {},
   "outputs": [],
   "source": [
    "fast_text_model.save('models\\\\fasttext\\\\fasttext200k.model')"
   ]
  },
  {
   "cell_type": "markdown",
   "metadata": {},
   "source": [
    "### Word2Vec"
   ]
  },
  {
   "cell_type": "code",
   "execution_count": 12,
   "metadata": {},
   "outputs": [],
   "source": [
    "word2vec_model = Word2Vec(size=300, workers=12)\n",
    "word2vec_model.build_vocab(data)"
   ]
  },
  {
   "cell_type": "code",
   "execution_count": 7,
   "metadata": {},
   "outputs": [],
   "source": []
  },
  {
   "cell_type": "code",
   "execution_count": 20,
   "metadata": {},
   "outputs": [
    {
     "name": "stdout",
     "output_type": "stream",
     "text": [
      "Epoch #0 start\n",
      "Epoch #0 end\n",
      "Epoch #1 start\n",
      "Epoch #1 end\n",
      "Epoch #2 start\n",
      "Epoch #2 end\n",
      "Epoch #3 start\n",
      "Epoch #3 end\n",
      "Epoch #4 start\n",
      "Epoch #4 end\n",
      "Epoch #5 start\n",
      "Epoch #5 end\n",
      "Epoch #6 start\n",
      "Epoch #6 end\n",
      "Epoch #7 start\n",
      "Epoch #7 end\n",
      "Epoch #8 start\n",
      "Epoch #8 end\n",
      "Epoch #9 start\n",
      "Epoch #9 end\n",
      "Epoch #10 start\n",
      "Epoch #10 end\n",
      "Epoch #11 start\n",
      "Epoch #11 end\n",
      "Epoch #12 start\n",
      "Epoch #12 end\n",
      "Epoch #13 start\n",
      "Epoch #13 end\n",
      "Epoch #14 start\n",
      "Epoch #14 end\n",
      "Epoch #15 start\n",
      "Epoch #15 end\n",
      "Epoch #16 start\n",
      "Epoch #16 end\n",
      "Epoch #17 start\n",
      "Epoch #17 end\n",
      "Epoch #18 start\n",
      "Epoch #18 end\n",
      "Epoch #19 start\n",
      "Epoch #19 end\n"
     ]
    },
    {
     "data": {
      "text/plain": [
       "(744806832, 973533000)"
      ]
     },
     "execution_count": 20,
     "metadata": {},
     "output_type": "execute_result"
    }
   ],
   "source": [
    "word2vec_model.train(data, total_examples=model.corpus_count, epochs=20, callbacks=[epoch_logger])"
   ]
  },
  {
   "cell_type": "code",
   "execution_count": 21,
   "metadata": {},
   "outputs": [],
   "source": [
    "word2vec_model.save(\"models\\\\word2vec200k\\\\word2vec200k.model\")"
   ]
  },
  {
   "cell_type": "markdown",
   "metadata": {},
   "source": [
    "## Testing"
   ]
  },
  {
   "cell_type": "code",
   "execution_count": 108,
   "metadata": {},
   "outputs": [
    {
     "data": {
      "text/plain": [
       "['the',\n",
       " 'level',\n",
       " 'of',\n",
       " 'postoperative',\n",
       " 'pain',\n",
       " 'and',\n",
       " 'nausea',\n",
       " 'was',\n",
       " 'scored',\n",
       " 'in',\n",
       " 'the',\n",
       " 'postanesthesia',\n",
       " 'care',\n",
       " 'unit',\n",
       " 'pacu',\n",
       " 'during',\n",
       " 'the',\n",
       " 'first',\n",
       " 'postoperative',\n",
       " 'hour',\n",
       " 'as',\n",
       " 'well',\n",
       " 'as',\n",
       " 'at',\n",
       " 'and',\n",
       " 'h',\n",
       " 'postoperatively']"
      ]
     },
     "execution_count": 108,
     "metadata": {},
     "output_type": "execute_result"
    }
   ],
   "source": [
    "test_sent = \"The level of postoperative pain and nausea was scored in the postanesthesia care unit ( PACU ) during the first postoperative hour , as well as at 2 , 4 , 8 and 24h postoperatively .\"\n",
    "words = nltk.word_tokenize(re.sub(r\"[^a-z]+\", \" \", test_sent.lower()))\n",
    "words"
   ]
  },
  {
   "cell_type": "code",
   "execution_count": 101,
   "metadata": {},
   "outputs": [],
   "source": [
    "fast_text_model = FastText.load(\"models\\\\fasttext200k\\\\fasttext200k.model\")\n",
    "word2vec_model = Word2Vec.load(\"models\\\\word2vec200k\\\\word2vec200k.model\")"
   ]
  },
  {
   "cell_type": "code",
   "execution_count": 116,
   "metadata": {},
   "outputs": [],
   "source": [
    "def check(words):\n",
    "    print(words)\n",
    "    return (predict_output_word(word2vec_model, words[:-1]), predict_output_word(fast_text_model, words[:-1]))"
   ]
  },
  {
   "cell_type": "code",
   "execution_count": 117,
   "metadata": {},
   "outputs": [
    {
     "name": "stdout",
     "output_type": "stream",
     "text": [
      "['the', 'postanesthesia', 'care', 'unit', 'pacu']\n"
     ]
    },
    {
     "data": {
      "text/plain": [
       "([('unit', 0.695053),\n",
       "  ('pacu', 0.057000123),\n",
       "  ('postanesthesia', 0.03609574),\n",
       "  ('care', 0.014875768),\n",
       "  ('arrival', 0.008621463),\n",
       "  ('stay', 0.0078104693),\n",
       "  ('intensive', 0.007062314),\n",
       "  ('postanaesthesia', 0.005120231),\n",
       "  ('ward', 0.0020113364),\n",
       "  ('postanesthetic', 0.0015265796)],\n",
       " [('intensive', 0.6312368),\n",
       "  ('postanesthesia', 0.15752365),\n",
       "  ('unit', 0.103116766),\n",
       "  ('usual', 0.06519048),\n",
       "  ('pacu', 0.00407928),\n",
       "  ('inpatient', 0.002983677),\n",
       "  ('orthogeriatric', 0.0024374798),\n",
       "  ('maternity', 0.0023734183),\n",
       "  ('cpu', 0.0020048202),\n",
       "  ('stay', 0.0018834673)])"
      ]
     },
     "execution_count": 117,
     "metadata": {},
     "output_type": "execute_result"
    }
   ],
   "source": [
    "check(words[10:15])"
   ]
  },
  {
   "cell_type": "code",
   "execution_count": null,
   "metadata": {},
   "outputs": [],
   "source": []
  }
 ],
 "metadata": {
  "kernelspec": {
   "display_name": "Python 3",
   "language": "python",
   "name": "python3"
  },
  "language_info": {
   "codemirror_mode": {
    "name": "ipython",
    "version": 3
   },
   "file_extension": ".py",
   "mimetype": "text/x-python",
   "name": "python",
   "nbconvert_exporter": "python",
   "pygments_lexer": "ipython3",
   "version": "3.6.8"
  }
 },
 "nbformat": 4,
 "nbformat_minor": 2
}
