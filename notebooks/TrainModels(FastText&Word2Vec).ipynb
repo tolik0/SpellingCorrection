{
 "cells": [
  {
   "cell_type": "code",
   "execution_count": null,
   "metadata": {},
   "outputs": [],
   "source": [
    "import sys\n",
    "sys.path.append('..\\\\')\n",
    "import os\n",
    "import re\n",
    "import numpy as np\n",
    "import gensim\n",
    "import nltk\n",
    "from gensim.models.word2vec import Word2Vec\n",
    "from gensim.models.fasttext import FastText\n",
    "from scripts.epoch_logger import EpochLogger\n",
    "from scripts.predict_from_context import predict_output_word\n",
    "from scripts.preprocess_data import load_data\n",
    "from scripts.embeddingCorrector import EmbeddingCorrector\n"
   ]
  },
  {
   "cell_type": "markdown",
   "metadata": {},
   "source": [
    "## Training"
   ]
  },
  {
   "cell_type": "code",
   "execution_count": null,
   "metadata": {},
   "outputs": [],
   "source": [
    "# DATA_FOLDER = \"..\\\\data\\\\\"\n",
    "# train_path = os.path.join(DATA_FOLDER, \"train.txt\")\n",
    "# with open(train_path) as file:\n",
    "#     text = file.read()"
   ]
  },
  {
   "cell_type": "code",
   "execution_count": null,
   "metadata": {},
   "outputs": [],
   "source": [
    "# text = re.sub(r\"\\b(?:[a-z.]*[A-Z][a-z.]*){2,}\", \"\", text)\n",
    "# data = [nltk.word_tokenize(re.sub(r\"[^a-z]+\", \" \", sentence.lower())) for sentence in nltk.sent_tokenize(text)]"
   ]
  },
  {
   "cell_type": "code",
   "execution_count": null,
   "metadata": {},
   "outputs": [],
   "source": [
    "path = \"..\\\\data\\\\pubmed-rct-master\\\\PubMed_200k_RCT\\\\train.txt\"\n",
    "data, _ = load_data(path)"
   ]
  },
  {
   "cell_type": "markdown",
   "metadata": {},
   "source": [
    "### FastText"
   ]
  },
  {
   "cell_type": "code",
   "execution_count": null,
   "metadata": {},
   "outputs": [],
   "source": [
    "epoch_logger = EpochLogger()\n",
    "fast_text_model = FastText(sg=1, min_n=2, max_n=4, min_count = 5, size=300, workers=8, callbacks=(epoch_logger,))\n",
    "\n",
    "# build the vocabulary\n",
    "fast_text_model.build_vocab(data)"
   ]
  },
  {
   "cell_type": "code",
   "execution_count": null,
   "metadata": {},
   "outputs": [],
   "source": [
    "print(fast_text_model)"
   ]
  },
  {
   "cell_type": "code",
   "execution_count": null,
   "metadata": {
    "scrolled": true
   },
   "outputs": [],
   "source": [
    "# train the model\n",
    "fast_text_model.train(data, total_examples=fast_text_model.corpus_count, epochs=20, callbacks=(epoch_logger,))"
   ]
  },
  {
   "cell_type": "code",
   "execution_count": null,
   "metadata": {},
   "outputs": [],
   "source": [
    "fast_text_model.save('..\\\\models\\\\fasttext200k_2_4_5_300\\\\fasttext200k.model')"
   ]
  },
  {
   "cell_type": "markdown",
   "metadata": {},
   "source": [
    "### Word2Vec"
   ]
  },
  {
   "cell_type": "code",
   "execution_count": null,
   "metadata": {},
   "outputs": [],
   "source": [
    "word2vec_model = Word2Vec(size=300, workers=12)\n",
    "word2vec_model.build_vocab(data)"
   ]
  },
  {
   "cell_type": "code",
   "execution_count": null,
   "metadata": {},
   "outputs": [],
   "source": [
    "epoch_logger = EpochLogger()\n",
    "word2vec_model.train(data, total_examples=word2vec_model.corpus_count, epochs=20, callbacks=[epoch_logger])"
   ]
  },
  {
   "cell_type": "code",
   "execution_count": null,
   "metadata": {},
   "outputs": [],
   "source": [
    "word2vec_model.save(\"..\\\\models\\\\word2vec200k\\\\word2vec200k.model\")"
   ]
  },
  {
   "cell_type": "markdown",
   "metadata": {},
   "source": [
    "## Testing"
   ]
  },
  {
   "cell_type": "code",
   "execution_count": null,
   "metadata": {},
   "outputs": [],
   "source": [
    "# test_sent = \"The level of postoperative pain and nausea was scored in the postanesthesia care unit ( PACU ) during the first postoperative hour , as well as at 2 , 4 , 8 and 24h postoperatively .\"\n",
    "# words = nltk.word_tokenize(re.sub(r\"[^a-z]+\", \" \", test_sent.lower()))\n",
    "# words"
   ]
  },
  {
   "cell_type": "code",
   "execution_count": null,
   "metadata": {},
   "outputs": [],
   "source": [
    "fast_text_model = FastText.load(\"..\\\\models\\\\fasttext200k\\\\fasttext200k.model\")\n",
    "word2vec_model = Word2Vec.load(\"..\\\\models\\\\word2vec200k\\\\word2vec200k.model\")"
   ]
  },
  {
   "cell_type": "code",
   "execution_count": null,
   "metadata": {},
   "outputs": [],
   "source": [
    "path = \"..\\\\data\\\\pubmed-rct-master\\\\PubMed_200k_RCT\\\\test.txt\"\n",
    "source, target = load_data(path)"
   ]
  },
  {
   "cell_type": "code",
   "execution_count": null,
   "metadata": {},
   "outputs": [],
   "source": [
    "def score(ec, source, target, x = 1000):\n",
    "    scr = 0\n",
    "    amt = 0\n",
    "    edited = ec.correct_text(source[:x])\n",
    "    for i in range(len(source[:x])):\n",
    "        if ' '.join(source[i]) != ' '.join(target[i]):\n",
    "            amt += 1\n",
    "            scr += 1 if ' '.join(edited[i]) == ' '.join(target[i]) else 0\n",
    "#             if not all([(source[i][j]==target[i][j] and edited[i][j] == target[i][j]) or (source[i][j]!=target[i][j]) for j in range(len(source[i]))]):\n",
    "#                 print(\"Source -> \", ' '.join(source[i]))\n",
    "#                 print(\"Edited -> \", ' '.join(edited[i]))\n",
    "#                 print(\"Target -> \", ' '.join(target[i]))\n",
    "\n",
    "    return scr / amt"
   ]
  },
  {
   "cell_type": "code",
   "execution_count": null,
   "metadata": {},
   "outputs": [],
   "source": [
    "ec = EmbeddingCorrector(fast_text_model)\n",
    "score(ec, source, target, x = len(source))"
   ]
  },
  {
   "cell_type": "code",
   "execution_count": null,
   "metadata": {},
   "outputs": [],
   "source": [
    "ec = EmbeddingCorrector(word2vec_model)\n",
    "score(ec, source, target, x = len(source))"
   ]
  },
  {
   "cell_type": "code",
   "execution_count": null,
   "metadata": {},
   "outputs": [],
   "source": []
  }
 ],
 "metadata": {
  "kernelspec": {
   "display_name": "Python 3",
   "language": "python",
   "name": "python3"
  },
  "language_info": {
   "codemirror_mode": {
    "name": "ipython",
    "version": 3
   },
   "file_extension": ".py",
   "mimetype": "text/x-python",
   "name": "python",
   "nbconvert_exporter": "python",
   "pygments_lexer": "ipython3",
   "version": "3.7.0"
  }
 },
 "nbformat": 4,
 "nbformat_minor": 2
}
